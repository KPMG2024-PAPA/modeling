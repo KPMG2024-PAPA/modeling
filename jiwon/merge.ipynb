{
 "cells": [
  {
   "cell_type": "code",
   "execution_count": 1,
   "metadata": {},
   "outputs": [],
   "source": [
    "import pandas as pd\n",
    "import os\n",
    "from tqdm import tqdm"
   ]
  },
  {
   "cell_type": "markdown",
   "metadata": {},
   "source": [
    "### dictionary 전처리"
   ]
  },
  {
   "cell_type": "code",
   "execution_count": 2,
   "metadata": {},
   "outputs": [
    {
     "data": {
      "text/plain": [
       "'/Users/zzzzzioni/Downloads/KIPI-KorPatELECTRA'"
      ]
     },
     "execution_count": 2,
     "metadata": {},
     "output_type": "execute_result"
    }
   ],
   "source": [
    "os.chdir('/Users/zzzzzioni/Downloads/KIPI-KorPatELECTRA')\n",
    "os.getcwd()"
   ]
  },
  {
   "cell_type": "code",
   "execution_count": 3,
   "metadata": {},
   "outputs": [],
   "source": [
    "df = pd.read_csv('pat_all_mecab_dic.csv')"
   ]
  },
  {
   "cell_type": "code",
   "execution_count": 4,
   "metadata": {},
   "outputs": [
    {
     "data": {
      "text/html": [
       "<div>\n",
       "<style scoped>\n",
       "    .dataframe tbody tr th:only-of-type {\n",
       "        vertical-align: middle;\n",
       "    }\n",
       "\n",
       "    .dataframe tbody tr th {\n",
       "        vertical-align: top;\n",
       "    }\n",
       "\n",
       "    .dataframe thead th {\n",
       "        text-align: right;\n",
       "    }\n",
       "</style>\n",
       "<table border=\"1\" class=\"dataframe\">\n",
       "  <thead>\n",
       "    <tr style=\"text-align: right;\">\n",
       "      <th></th>\n",
       "      <th>실시예</th>\n",
       "      <th>*.4</th>\n",
       "    </tr>\n",
       "  </thead>\n",
       "  <tbody>\n",
       "    <tr>\n",
       "      <th>0</th>\n",
       "      <td>일측</td>\n",
       "      <td>*</td>\n",
       "    </tr>\n",
       "    <tr>\n",
       "      <th>1</th>\n",
       "      <td>청구항</td>\n",
       "      <td>*</td>\n",
       "    </tr>\n",
       "    <tr>\n",
       "      <th>2</th>\n",
       "      <td>제어부</td>\n",
       "      <td>*</td>\n",
       "    </tr>\n",
       "    <tr>\n",
       "      <th>3</th>\n",
       "      <td>어드레스</td>\n",
       "      <td>*</td>\n",
       "    </tr>\n",
       "    <tr>\n",
       "      <th>4</th>\n",
       "      <td>제조방법</td>\n",
       "      <td>*</td>\n",
       "    </tr>\n",
       "    <tr>\n",
       "      <th>...</th>\n",
       "      <td>...</td>\n",
       "      <td>...</td>\n",
       "    </tr>\n",
       "    <tr>\n",
       "      <th>6663687</th>\n",
       "      <td>포트챔버면적</td>\n",
       "      <td>포트챔버/NNG/*+면적/NNG/*</td>\n",
       "    </tr>\n",
       "    <tr>\n",
       "      <th>6663688</th>\n",
       "      <td>에어백차단스위</td>\n",
       "      <td>에어백/NNG/*+차단스위/NNG/*</td>\n",
       "    </tr>\n",
       "    <tr>\n",
       "      <th>6663689</th>\n",
       "      <td>흡입차단스위</td>\n",
       "      <td>흡입/NNG/*+차단스위/NNG/*</td>\n",
       "    </tr>\n",
       "    <tr>\n",
       "      <th>6663690</th>\n",
       "      <td>전면전극쉬트</td>\n",
       "      <td>전면/NNG/*+전극쉬트/NNG/*</td>\n",
       "    </tr>\n",
       "    <tr>\n",
       "      <th>6663691</th>\n",
       "      <td>적분함수부분</td>\n",
       "      <td>적분함수/NNG/*+부분/NNG/*</td>\n",
       "    </tr>\n",
       "  </tbody>\n",
       "</table>\n",
       "<p>6663692 rows × 2 columns</p>\n",
       "</div>"
      ],
      "text/plain": [
       "             실시예                   *.4\n",
       "0             일측                     *\n",
       "1            청구항                     *\n",
       "2            제어부                     *\n",
       "3           어드레스                     *\n",
       "4           제조방법                     *\n",
       "...          ...                   ...\n",
       "6663687   포트챔버면적   포트챔버/NNG/*+면적/NNG/*\n",
       "6663688  에어백차단스위  에어백/NNG/*+차단스위/NNG/*\n",
       "6663689   흡입차단스위   흡입/NNG/*+차단스위/NNG/*\n",
       "6663690   전면전극쉬트   전면/NNG/*+전극쉬트/NNG/*\n",
       "6663691   적분함수부분   적분함수/NNG/*+부분/NNG/*\n",
       "\n",
       "[6663692 rows x 2 columns]"
      ]
     },
     "execution_count": 4,
     "metadata": {},
     "output_type": "execute_result"
    }
   ],
   "source": [
    "df[['실시예', '*.4']]"
   ]
  },
  {
   "cell_type": "code",
   "execution_count": 5,
   "metadata": {},
   "outputs": [
    {
     "data": {
      "text/plain": [
       "(6663692, 12)"
      ]
     },
     "execution_count": 5,
     "metadata": {},
     "output_type": "execute_result"
    }
   ],
   "source": [
    "df.shape"
   ]
  },
  {
   "cell_type": "code",
   "execution_count": 6,
   "metadata": {},
   "outputs": [],
   "source": [
    "word = []"
   ]
  },
  {
   "cell_type": "code",
   "execution_count": 7,
   "metadata": {},
   "outputs": [],
   "source": [
    "word.extend(list(df[df['*.4'] == '*']['실시예']))"
   ]
  },
  {
   "cell_type": "code",
   "execution_count": 8,
   "metadata": {},
   "outputs": [
    {
     "data": {
      "text/plain": [
       "2067931"
      ]
     },
     "execution_count": 8,
     "metadata": {},
     "output_type": "execute_result"
    }
   ],
   "source": [
    "len(word)"
   ]
  },
  {
   "cell_type": "code",
   "execution_count": 9,
   "metadata": {},
   "outputs": [],
   "source": [
    "comp = df[df['*.4'] != '*']\n",
    "data = list(comp['*.4'])"
   ]
  },
  {
   "cell_type": "code",
   "execution_count": 19,
   "metadata": {},
   "outputs": [
    {
     "name": "stderr",
     "output_type": "stream",
     "text": [
      "100%|██████████| 4595761/4595761 [00:04<00:00, 1094569.17it/s]\n"
     ]
    }
   ],
   "source": [
    "result = []\n",
    "\n",
    "# 데이터 리스트의 각 항목에 대해 반복\n",
    "for item in tqdm(data):\n",
    "    # '+', '/' 기호를 기준으로 문자열을 분리하고, 필요한 부분만 선택\n",
    "    parts = item.split('+')\n",
    "    for part in parts:\n",
    "        w = part.split('/')[0]  # '/' 기호를 기준으로 단어만 추\n",
    "        result.append(w)  # 결과 리스트에 추가"
   ]
  },
  {
   "cell_type": "code",
   "execution_count": 21,
   "metadata": {},
   "outputs": [
    {
     "data": {
      "text/plain": [
       "585737"
      ]
     },
     "execution_count": 21,
     "metadata": {},
     "output_type": "execute_result"
    }
   ],
   "source": [
    "len(set(result))"
   ]
  },
  {
   "cell_type": "code",
   "execution_count": 11,
   "metadata": {},
   "outputs": [],
   "source": [
    "result = set(result)"
   ]
  },
  {
   "cell_type": "code",
   "execution_count": 15,
   "metadata": {},
   "outputs": [
    {
     "data": {
      "text/plain": [
       "585737"
      ]
     },
     "execution_count": 15,
     "metadata": {},
     "output_type": "execute_result"
    }
   ],
   "source": [
    "len(result)"
   ]
  },
  {
   "cell_type": "code",
   "execution_count": 13,
   "metadata": {},
   "outputs": [],
   "source": [
    "word.extend(result)"
   ]
  },
  {
   "cell_type": "code",
   "execution_count": 17,
   "metadata": {},
   "outputs": [],
   "source": [
    "final = set(word)"
   ]
  },
  {
   "cell_type": "code",
   "execution_count": 18,
   "metadata": {},
   "outputs": [
    {
     "name": "stderr",
     "output_type": "stream",
     "text": [
      "100%|██████████| 2163713/2163713 [00:01<00:00, 1654116.13it/s]"
     ]
    },
    {
     "name": "stdout",
     "output_type": "stream",
     "text": [
      "리스트가 텍스트 파일로 저장되었습니다.\n"
     ]
    },
    {
     "name": "stderr",
     "output_type": "stream",
     "text": [
      "\n"
     ]
    }
   ],
   "source": [
    "with open('add_vocab.txt', 'w', encoding='utf-8') as file:\n",
    "    for item in tqdm(final):\n",
    "        file.write(item + '\\n')\n",
    "\n",
    "print('리스트가 텍스트 파일로 저장되었습니다.')"
   ]
  },
  {
   "cell_type": "markdown",
   "metadata": {},
   "source": [
    "### data 합치기"
   ]
  },
  {
   "cell_type": "code",
   "execution_count": 6,
   "metadata": {},
   "outputs": [],
   "source": [
    "import glob\n",
    "\n",
    "csv_files = glob.glob('*.csv')\n"
   ]
  },
  {
   "cell_type": "code",
   "execution_count": 16,
   "metadata": {},
   "outputs": [
    {
     "name": "stdout",
     "output_type": "stream",
     "text": [
      "(500, 20)\n",
      "(497, 20)\n",
      "(497, 20)\n",
      "(478, 20)\n",
      "(500, 20)\n",
      "(32, 20)\n",
      "(493, 20)\n",
      "(499, 20)\n",
      "(498, 20)\n",
      "(500, 20)\n",
      "(500, 20)\n",
      "(490, 20)\n",
      "(499, 20)\n",
      "(500, 20)\n",
      "(500, 20)\n",
      "(75, 20)\n",
      "(468, 20)\n",
      "(474, 20)\n",
      "(493, 20)\n",
      "(500, 20)\n",
      "(499, 20)\n",
      "(1, 20)\n",
      "(308, 20)\n",
      "(498, 20)\n",
      "(500, 20)\n",
      "(497, 20)\n",
      "(494, 20)\n",
      "(498, 20)\n",
      "(494, 20)\n",
      "(499, 20)\n",
      "(500, 20)\n",
      "(399, 20)\n",
      "(497, 20)\n",
      "(500, 20)\n",
      "(118, 20)\n",
      "(487, 20)\n",
      "(500, 20)\n",
      "(500, 20)\n",
      "(485, 20)\n",
      "(492, 20)\n",
      "(495, 20)\n",
      "(186, 20)\n",
      "(496, 20)\n",
      "(499, 20)\n",
      "(478, 20)\n",
      "(496, 20)\n",
      "(64, 20)\n",
      "(500, 20)\n",
      "(231, 20)\n",
      "(500, 20)\n",
      "(499, 20)\n",
      "(500, 20)\n",
      "(500, 20)\n",
      "(500, 20)\n",
      "(454, 20)\n",
      "(480, 20)\n",
      "(299, 20)\n",
      "(475, 20)\n",
      "(495, 20)\n",
      "(266, 20)\n",
      "(474, 20)\n",
      "(499, 20)\n",
      "(493, 20)\n",
      "(460, 20)\n",
      "(500, 20)\n",
      "(456, 20)\n",
      "(500, 20)\n",
      "(500, 20)\n",
      "(499, 20)\n",
      "(466, 20)\n",
      "(494, 20)\n",
      "(472, 20)\n",
      "(499, 20)\n",
      "(500, 20)\n",
      "(500, 20)\n",
      "(488, 20)\n",
      "(500, 20)\n",
      "(498, 20)\n",
      "(281, 20)\n",
      "(500, 20)\n",
      "(463, 20)\n",
      "(500, 20)\n",
      "(500, 20)\n",
      "(133, 20)\n",
      "(496, 20)\n",
      "(500, 20)\n",
      "(500, 20)\n",
      "(500, 20)\n",
      "(500, 20)\n",
      "(477, 20)\n",
      "(361, 20)\n",
      "(378, 20)\n",
      "(87, 20)\n",
      "(499, 20)\n",
      "(498, 20)\n",
      "(500, 20)\n",
      "(500, 20)\n",
      "(498, 20)\n",
      "(498, 20)\n",
      "(301, 20)\n",
      "(472, 20)\n",
      "(403, 20)\n",
      "(500, 20)\n",
      "(486, 20)\n",
      "(272, 20)\n",
      "(463, 20)\n",
      "(483, 20)\n",
      "(86, 20)\n",
      "(499, 20)\n",
      "(500, 20)\n",
      "(499, 20)\n",
      "(500, 20)\n",
      "(500, 20)\n",
      "(500, 20)\n",
      "(478, 20)\n",
      "(13, 20)\n",
      "(485, 20)\n",
      "(491, 20)\n",
      "(499, 20)\n",
      "(12, 20)\n",
      "(237, 20)\n",
      "(414, 20)\n",
      "(500, 20)\n",
      "(500, 20)\n",
      "(474, 20)\n",
      "(500, 20)\n",
      "(500, 20)\n",
      "(489, 20)\n",
      "(463, 20)\n",
      "(497, 20)\n",
      "(473, 20)\n",
      "(497, 20)\n",
      "(481, 20)\n",
      "(498, 20)\n",
      "(500, 20)\n",
      "(281, 20)\n",
      "(499, 20)\n",
      "(500, 20)\n",
      "(498, 20)\n",
      "(500, 20)\n",
      "(121, 20)\n",
      "(500, 20)\n",
      "(499, 20)\n",
      "(496, 20)\n",
      "(500, 20)\n",
      "(498, 20)\n",
      "(500, 20)\n",
      "(500, 20)\n",
      "(500, 20)\n",
      "(497, 20)\n",
      "(498, 20)\n",
      "(495, 20)\n",
      "(500, 20)\n",
      "(497, 20)\n",
      "(255, 20)\n",
      "(330, 20)\n",
      "(500, 20)\n",
      "(500, 20)\n",
      "(491, 20)\n",
      "(491, 20)\n",
      "(487, 20)\n",
      "(500, 20)\n",
      "(500, 20)\n",
      "(491, 20)\n",
      "(494, 20)\n",
      "(316, 20)\n",
      "(496, 20)\n",
      "(500, 20)\n",
      "(368, 20)\n",
      "(10, 20)\n",
      "(497, 20)\n",
      "(500, 20)\n",
      "(476, 20)\n",
      "(53, 20)\n",
      "(499, 20)\n",
      "(499, 20)\n",
      "(497, 20)\n",
      "(500, 20)\n",
      "(500, 20)\n",
      "(485, 20)\n",
      "(500, 20)\n",
      "(500, 20)\n",
      "(499, 20)\n",
      "(496, 20)\n",
      "(40, 20)\n",
      "(500, 20)\n",
      "(500, 20)\n",
      "(498, 20)\n",
      "(481, 20)\n",
      "(484, 20)\n",
      "(19, 20)\n",
      "(500, 20)\n",
      "(500, 20)\n",
      "(494, 20)\n",
      "(500, 20)\n",
      "(499, 20)\n",
      "(500, 20)\n",
      "(500, 20)\n",
      "(116, 20)\n",
      "(462, 20)\n",
      "(499, 20)\n",
      "(236, 20)\n",
      "(469, 20)\n",
      "(499, 20)\n",
      "(500, 20)\n",
      "(500, 20)\n",
      "(125, 20)\n",
      "(500, 20)\n",
      "(500, 20)\n",
      "(500, 20)\n",
      "(500, 20)\n",
      "(499, 20)\n",
      "(492, 20)\n",
      "(500, 20)\n",
      "(455, 20)\n",
      "(455, 20)\n",
      "(478, 20)\n",
      "(500, 20)\n",
      "(500, 20)\n",
      "(492, 20)\n",
      "(500, 20)\n",
      "(500, 20)\n",
      "(499, 20)\n",
      "(362, 20)\n",
      "(440, 20)\n",
      "(489, 20)\n",
      "(500, 20)\n",
      "(458, 20)\n",
      "(500, 20)\n",
      "(498, 20)\n",
      "(79, 20)\n",
      "(499, 20)\n",
      "(500, 20)\n",
      "(499, 20)\n",
      "(80, 20)\n",
      "(500, 20)\n",
      "(500, 20)\n",
      "(500, 20)\n",
      "(498, 20)\n",
      "(496, 20)\n",
      "(500, 20)\n",
      "(500, 20)\n",
      "(69, 20)\n",
      "(498, 20)\n",
      "(500, 20)\n",
      "(491, 20)\n",
      "(500, 20)\n",
      "(500, 20)\n",
      "(500, 20)\n",
      "(479, 20)\n",
      "(495, 20)\n",
      "(166, 20)\n",
      "(496, 20)\n",
      "(498, 20)\n",
      "(500, 20)\n",
      "(55, 20)\n",
      "(498, 20)\n",
      "(298, 20)\n",
      "(500, 20)\n",
      "(270, 20)\n",
      "(496, 20)\n",
      "(476, 20)\n",
      "(500, 20)\n",
      "(498, 20)\n",
      "(295, 20)\n",
      "(479, 20)\n",
      "(500, 20)\n",
      "(500, 20)\n",
      "(495, 20)\n",
      "(500, 20)\n",
      "(499, 20)\n",
      "(493, 20)\n",
      "(8, 20)\n",
      "(499, 20)\n",
      "(500, 20)\n",
      "(498, 20)\n",
      "(500, 20)\n",
      "(497, 20)\n",
      "(500, 20)\n",
      "(482, 20)\n",
      "(500, 20)\n",
      "(263, 20)\n",
      "(500, 20)\n",
      "(132, 20)\n",
      "(344, 20)\n",
      "(499, 20)\n",
      "(500, 20)\n",
      "(500, 20)\n",
      "(500, 20)\n",
      "(500, 20)\n",
      "(500, 20)\n",
      "(500, 20)\n",
      "(500, 20)\n",
      "(500, 20)\n",
      "(500, 20)\n",
      "(500, 20)\n",
      "(490, 20)\n",
      "(500, 20)\n",
      "(498, 20)\n",
      "(499, 20)\n",
      "(306, 20)\n",
      "(499, 20)\n",
      "(489, 20)\n",
      "(498, 20)\n",
      "(361, 20)\n",
      "(500, 20)\n",
      "(498, 20)\n",
      "(500, 20)\n",
      "(470, 20)\n",
      "(244, 20)\n",
      "(30, 20)\n",
      "(489, 20)\n",
      "(500, 20)\n",
      "(498, 20)\n",
      "(500, 20)\n",
      "(495, 20)\n",
      "(483, 20)\n",
      "(498, 20)\n",
      "(499, 20)\n",
      "(48, 20)\n",
      "(183, 20)\n",
      "(500, 20)\n",
      "(499, 20)\n",
      "(17, 20)\n",
      "(498, 20)\n",
      "(497, 20)\n",
      "(500, 20)\n",
      "(500, 20)\n",
      "(495, 20)\n",
      "(492, 20)\n",
      "(499, 20)\n",
      "(492, 20)\n",
      "(500, 20)\n",
      "(160, 20)\n",
      "(3, 20)\n",
      "(500, 20)\n",
      "(500, 20)\n",
      "(469, 20)\n",
      "(467, 20)\n",
      "(500, 20)\n",
      "(490, 20)\n",
      "(500, 20)\n",
      "(493, 20)\n",
      "(498, 20)\n",
      "(461, 20)\n",
      "(500, 20)\n",
      "(500, 20)\n",
      "(496, 20)\n",
      "(500, 20)\n",
      "(500, 20)\n",
      "(500, 20)\n",
      "(499, 20)\n",
      "(483, 20)\n",
      "(315, 20)\n",
      "(499, 20)\n",
      "(476, 20)\n",
      "(500, 20)\n",
      "(500, 20)\n",
      "(500, 20)\n",
      "(487, 20)\n",
      "(497, 20)\n",
      "(500, 20)\n",
      "(492, 20)\n",
      "(497, 20)\n",
      "(497, 20)\n",
      "(498, 20)\n",
      "(495, 20)\n",
      "(500, 20)\n",
      "(498, 20)\n",
      "(200, 20)\n",
      "(202, 20)\n",
      "(500, 20)\n",
      "(500, 20)\n",
      "(500, 20)\n",
      "(500, 20)\n",
      "(498, 20)\n",
      "(500, 20)\n",
      "(498, 20)\n",
      "(500, 20)\n",
      "(500, 20)\n",
      "(499, 20)\n",
      "(500, 20)\n",
      "(491, 20)\n",
      "(499, 20)\n",
      "(499, 20)\n",
      "(500, 20)\n",
      "(127, 20)\n",
      "(258, 20)\n",
      "(494, 20)\n",
      "(232, 20)\n",
      "(491, 20)\n",
      "(500, 20)\n",
      "(211, 20)\n",
      "(475, 20)\n",
      "(499, 20)\n",
      "(478, 20)\n",
      "(492, 20)\n",
      "(499, 20)\n",
      "(500, 20)\n",
      "(499, 20)\n",
      "(111, 20)\n",
      "(500, 20)\n",
      "(491, 20)\n",
      "(499, 20)\n",
      "(115, 20)\n",
      "(443, 20)\n",
      "(448, 20)\n",
      "(209, 20)\n",
      "(499, 20)\n",
      "(499, 20)\n",
      "(488, 20)\n",
      "(8, 20)\n",
      "(500, 20)\n",
      "(495, 20)\n",
      "(500, 20)\n",
      "(497, 20)\n",
      "(498, 20)\n",
      "(496, 20)\n",
      "(500, 20)\n",
      "(500, 20)\n",
      "(489, 20)\n",
      "(499, 20)\n",
      "(494, 20)\n",
      "(380, 20)\n",
      "(495, 20)\n",
      "(441, 20)\n",
      "(500, 20)\n",
      "(499, 20)\n",
      "(500, 20)\n",
      "(500, 20)\n",
      "(500, 20)\n",
      "(500, 20)\n",
      "(499, 20)\n",
      "(498, 20)\n",
      "(500, 20)\n",
      "(496, 20)\n",
      "(500, 20)\n",
      "(487, 20)\n",
      "(484, 20)\n",
      "(498, 20)\n",
      "(500, 20)\n",
      "(500, 20)\n",
      "(499, 20)\n",
      "(496, 20)\n",
      "(500, 20)\n",
      "(500, 20)\n",
      "(500, 20)\n",
      "(74, 20)\n",
      "(500, 20)\n",
      "(500, 20)\n",
      "(453, 20)\n",
      "(478, 20)\n",
      "(371, 20)\n",
      "(500, 20)\n",
      "(493, 20)\n",
      "(6, 20)\n",
      "(489, 20)\n",
      "(499, 20)\n",
      "(499, 20)\n",
      "(496, 20)\n",
      "(500, 20)\n",
      "(446, 20)\n",
      "(497, 20)\n",
      "(500, 20)\n",
      "(500, 20)\n",
      "(499, 20)\n",
      "(500, 20)\n",
      "(500, 20)\n",
      "(494, 20)\n",
      "(463, 20)\n",
      "(500, 20)\n",
      "(37, 20)\n",
      "(500, 20)\n",
      "(486, 20)\n",
      "(500, 20)\n",
      "(108, 20)\n",
      "(500, 20)\n",
      "(498, 20)\n",
      "(500, 20)\n",
      "(202, 20)\n",
      "(500, 20)\n",
      "(500, 20)\n",
      "(499, 20)\n",
      "(496, 20)\n",
      "(35, 20)\n",
      "(499, 20)\n",
      "(1, 20)\n",
      "(493, 20)\n",
      "(365, 20)\n",
      "(473, 20)\n",
      "(496, 20)\n",
      "(94, 20)\n",
      "(500, 20)\n",
      "(480, 20)\n",
      "(10, 20)\n",
      "(147, 20)\n",
      "(500, 20)\n",
      "(453, 20)\n",
      "(500, 20)\n",
      "(499, 20)\n",
      "(417, 20)\n",
      "(496, 20)\n",
      "(496, 20)\n",
      "(499, 20)\n",
      "(481, 20)\n",
      "(500, 20)\n",
      "(500, 20)\n",
      "(500, 20)\n",
      "(254, 20)\n",
      "(82, 20)\n",
      "(500, 20)\n",
      "(499, 20)\n",
      "(500, 20)\n",
      "(499, 20)\n",
      "(494, 20)\n",
      "(38, 20)\n",
      "(500, 20)\n",
      "(500, 20)\n",
      "(500, 20)\n",
      "(488, 20)\n",
      "(500, 20)\n",
      "(489, 20)\n",
      "(500, 20)\n",
      "(481, 20)\n",
      "(500, 20)\n",
      "(500, 20)\n",
      "(492, 20)\n",
      "(500, 20)\n",
      "(499, 20)\n",
      "(500, 20)\n",
      "(500, 20)\n",
      "(24, 20)\n",
      "(500, 20)\n",
      "(500, 20)\n",
      "(9, 20)\n",
      "(83, 20)\n",
      "(465, 20)\n",
      "(500, 20)\n",
      "(497, 20)\n",
      "(494, 20)\n",
      "(59, 20)\n",
      "(500, 20)\n",
      "(500, 20)\n"
     ]
    }
   ],
   "source": [
    "df_list = []\n",
    "for file in csv_files:\n",
    "    df = pd.read_csv(file)\n",
    "    print(df.shape)\n",
    "    df_list.append(df)\n",
    "    \n",
    "combined_df = pd.concat(df_list, ignore_index=True)\n"
   ]
  },
  {
   "cell_type": "code",
   "execution_count": 12,
   "metadata": {},
   "outputs": [
    {
     "data": {
      "text/plain": [
       "543"
      ]
     },
     "execution_count": 12,
     "metadata": {},
     "output_type": "execute_result"
    }
   ],
   "source": [
    "len(df_list)"
   ]
  },
  {
   "cell_type": "code",
   "execution_count": 17,
   "metadata": {},
   "outputs": [
    {
     "data": {
      "text/plain": [
       "(239156, 20)"
      ]
     },
     "execution_count": 17,
     "metadata": {},
     "output_type": "execute_result"
    }
   ],
   "source": [
    "combined_df.shape"
   ]
  },
  {
   "cell_type": "code",
   "execution_count": 20,
   "metadata": {},
   "outputs": [],
   "source": [
    "fin = combined_df[['cleaned_summary', 'IPC_codes', 'CPC_codes', 'Section', 'Class', 'Subclass']]"
   ]
  },
  {
   "cell_type": "code",
   "execution_count": 22,
   "metadata": {},
   "outputs": [],
   "source": [
    "fin.to_csv('cpc.csv', encoding = 'utf-8')"
   ]
  },
  {
   "cell_type": "markdown",
   "metadata": {},
   "source": [
    "### aihub 특허 data set 정제"
   ]
  },
  {
   "cell_type": "code",
   "execution_count": 2,
   "metadata": {},
   "outputs": [
    {
     "data": {
      "text/plain": [
       "'/Users/zzzzzioni/Documents/python/YBIGTA/KPMG/modeling'"
      ]
     },
     "execution_count": 2,
     "metadata": {},
     "output_type": "execute_result"
    }
   ],
   "source": [
    "os.getcwd()"
   ]
  },
  {
   "cell_type": "code",
   "execution_count": 3,
   "metadata": {},
   "outputs": [],
   "source": [
    "os.chdir('/Users/zzzzzioni/Downloads/특허data')"
   ]
  },
  {
   "cell_type": "code",
   "execution_count": 17,
   "metadata": {},
   "outputs": [
    {
     "name": "stderr",
     "output_type": "stream",
     "text": [
      "100%|██████████| 40/40 [01:23<00:00,  2.09s/it]\n"
     ]
    }
   ],
   "source": [
    "import glob\n",
    "import json\n",
    "from tqdm import tqdm\n",
    "\n",
    "# 현재 디렉토리 내의 모든 JSON 파일을 찾기\n",
    "json_files = glob.glob('./*.json')\n",
    "\n",
    "# 'text' 태그를 가진 데이터를 저장할 리스트\n",
    "texts = []\n",
    "\n",
    "# 각 JSON 파일에 대해 반복\n",
    "for file_name in tqdm(json_files):\n",
    "    # 파일 열기 및 JSON 데이터 로드\n",
    "    with open(file_name, 'r', encoding='utf-8') as file:\n",
    "        data = json.load(file)\n",
    "        \n",
    "        for d in data['data']:\n",
    "            for r in d['rows']:\n",
    "                texts.append(r['text'])"
   ]
  },
  {
   "cell_type": "code",
   "execution_count": 23,
   "metadata": {},
   "outputs": [],
   "source": [
    "df = pd.DataFrame(texts, columns=['text'])\n",
    "\n",
    "df.to_csv('final.csv', encoding='utf-8')"
   ]
  }
 ],
 "metadata": {
  "kernelspec": {
   "display_name": "Python 3.10.13 ('base')",
   "language": "python",
   "name": "python3"
  },
  "language_info": {
   "codemirror_mode": {
    "name": "ipython",
    "version": 3
   },
   "file_extension": ".py",
   "mimetype": "text/x-python",
   "name": "python",
   "nbconvert_exporter": "python",
   "pygments_lexer": "ipython3",
   "version": "3.10.13"
  },
  "orig_nbformat": 4,
  "vscode": {
   "interpreter": {
    "hash": "c626eca95c7c3b9d1b80f27205c50fa10e61082242f1f1369bf9c072b768cb7c"
   }
  }
 },
 "nbformat": 4,
 "nbformat_minor": 2
}
